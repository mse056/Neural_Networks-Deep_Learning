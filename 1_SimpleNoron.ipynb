{
 "cells": [
  {
   "cell_type": "code",
   "execution_count": 11,
   "id": "0d26d144",
   "metadata": {},
   "outputs": [],
   "source": [
    "import numpy as np\n",
    "import random"
   ]
  },
  {
   "cell_type": "code",
   "execution_count": 24,
   "id": "346dd11a",
   "metadata": {},
   "outputs": [],
   "source": [
    "bias = 1\n",
    "x = [\n",
    "    [1, 1, 1],\n",
    "    [1, 0, 1],\n",
    "    [0, 1, 1],\n",
    "    [0, 0, 0]\n",
    "]\n",
    "w = [\n",
    "    random.random(),\n",
    "    random.random(),\n",
    "    random.random()\n",
    "]"
   ]
  },
  {
   "cell_type": "code",
   "execution_count": 25,
   "id": "c57aecb3",
   "metadata": {},
   "outputs": [
    {
     "data": {
      "text/plain": [
       "[0.026202998517375176, 0.26866562687257467, 0.6075235635597852]"
      ]
     },
     "execution_count": 25,
     "metadata": {},
     "output_type": "execute_result"
    }
   ],
   "source": [
    "w"
   ]
  },
  {
   "cell_type": "code",
   "execution_count": 26,
   "id": "85f128d2",
   "metadata": {},
   "outputs": [],
   "source": [
    "def activation_function(output):\n",
    "    if output > 0:\n",
    "        return 1\n",
    "    else:\n",
    "        return 0"
   ]
  },
  {
   "cell_type": "code",
   "execution_count": 27,
   "id": "0df8308b",
   "metadata": {},
   "outputs": [],
   "source": [
    "def noron(instance):\n",
    "    x0 = instance[0]\n",
    "    x1 = instance[1]\n",
    "    y = instance[2]\n",
    "    \n",
    "    output = activation_function(x0 * w[0] + x1 * w[1] + bias * w[2])\n",
    "    error = y - output\n",
    "    # Backpropagation\n",
    "    w[0] = w[0] + error * x0\n",
    "    w[1] = w[1] + error * x1\n",
    "    w[2] = w[2] + error * bias"
   ]
  },
  {
   "cell_type": "code",
   "execution_count": 28,
   "id": "ea5ca168",
   "metadata": {},
   "outputs": [],
   "source": [
    "for i in range(100):\n",
    "    for j in x:\n",
    "        noron(j)"
   ]
  },
  {
   "cell_type": "code",
   "execution_count": 29,
   "id": "1facfccb",
   "metadata": {},
   "outputs": [
    {
     "data": {
      "text/plain": [
       "[1.026202998517375, 1.2686656268725747, -0.3924764364402148]"
      ]
     },
     "execution_count": 29,
     "metadata": {},
     "output_type": "execute_result"
    }
   ],
   "source": [
    "w"
   ]
  },
  {
   "cell_type": "code",
   "execution_count": 33,
   "id": "98b493da",
   "metadata": {},
   "outputs": [
    {
     "data": {
      "text/plain": [
       "1"
      ]
     },
     "execution_count": 33,
     "metadata": {},
     "output_type": "execute_result"
    }
   ],
   "source": [
    "x_test = [1, 1]\n",
    "activation_function(x_test[0] * w[0] + x_test[1] * w[1] + bias * w[2])"
   ]
  },
  {
   "cell_type": "code",
   "execution_count": 34,
   "id": "0dfa81a8",
   "metadata": {},
   "outputs": [
    {
     "data": {
      "text/plain": [
       "1"
      ]
     },
     "execution_count": 34,
     "metadata": {},
     "output_type": "execute_result"
    }
   ],
   "source": [
    "x_test = [0.9, 0.8]\n",
    "activation_function(x_test[0] * w[0] + x_test[1] * w[1] + bias * w[2])"
   ]
  },
  {
   "cell_type": "code",
   "execution_count": 35,
   "id": "e54495f5",
   "metadata": {},
   "outputs": [
    {
     "data": {
      "text/plain": [
       "0"
      ]
     },
     "execution_count": 35,
     "metadata": {},
     "output_type": "execute_result"
    }
   ],
   "source": [
    "x_test = [0.1, 0.2]\n",
    "activation_function(x_test[0] * w[0] + x_test[1] * w[1] + bias * w[2])"
   ]
  },
  {
   "cell_type": "code",
   "execution_count": null,
   "id": "c3775795",
   "metadata": {},
   "outputs": [],
   "source": [
    "  "
   ]
  }
 ],
 "metadata": {
  "kernelspec": {
   "display_name": "Python 3 (ipykernel)",
   "language": "python",
   "name": "python3"
  },
  "language_info": {
   "codemirror_mode": {
    "name": "ipython",
    "version": 3
   },
   "file_extension": ".py",
   "mimetype": "text/x-python",
   "name": "python",
   "nbconvert_exporter": "python",
   "pygments_lexer": "ipython3",
   "version": "3.10.9"
  }
 },
 "nbformat": 4,
 "nbformat_minor": 5
}
